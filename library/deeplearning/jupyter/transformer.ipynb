{
 "cells": [
  {
   "cell_type": "markdown",
   "source": [
    "# Transformer Tutorial\n",
    "\n",
    "[Attention Is All You Need](https://arxiv.org/abs/1706.03762) 논문관련 실습\n",
    "\n",
    "---\n",
    "\n",
    "### Goal\n",
    "1. Self Attention & Multi-Head Attention 을 이해한다.\n",
    "3. Transformer 를 pytorch 로 구현한다.\n",
    "\n",
    "### Pre-requisite\n",
    "1. DL 에 대한 기본적인 이해\n",
    "2. RNN 에 대한 기본적인 이해 (RNN, LSTM, GRU, Seq2Seq, ...)\n",
    "3. Pytorch Library 사용법\n",
    "\n",
    "### Reference\n",
    "- reference : [The Illustrated Transformer](https://jalammar.github.io/illustrated-transformer/)."
   ],
   "metadata": {
    "collapsed": false
   },
   "id": "272668fbbd6c42a2"
  },
  {
   "cell_type": "markdown",
   "source": [
    "## Step I. Self Attention\n",
    "\n",
    "i. Scale Dot-Product Attention\n",
    "ii. Multi-Head Attention"
   ],
   "metadata": {
    "collapsed": false
   },
   "id": "722c1409093917ab"
  },
  {
   "cell_type": "code",
   "execution_count": 2,
   "id": "initial_id",
   "metadata": {
    "collapsed": true,
    "ExecuteTime": {
     "end_time": "2023-09-05T01:29:48.909430Z",
     "start_time": "2023-09-05T01:29:47.221351Z"
    }
   },
   "outputs": [],
   "source": [
    "import torch\n",
    "from torch import nn\n",
    "from torch.nn import functional as F"
   ]
  },
  {
   "cell_type": "code",
   "execution_count": null,
   "outputs": [],
   "source": [
    "class ScaledDotProductAttentionLayer(nn.Module):\n",
    "    \"\"\"Scaled Dot-Product Attention Layer.\n",
    "    \n",
    "    \"\"\"\n",
    "    def __init__(self, d_k: int, d_v: int, dropout: float = 0.1) -> None:\n",
    "        super().__init__()\n",
    "        self.d_k = d_k\n",
    "        self.d_v = d_v\n",
    "        \n",
    "        # Query, Key, Value 에 대한 Linear Transformation\n",
    "        self.k_linear = nn.Linear(d_k, d_k)\n",
    "        self.q_linear = nn.Linear(d_k, d_k)\n",
    "        self.v_linear = nn.Linear(d_v, d_v)\n",
    "\n",
    "        # \n",
    "        self.out = nn.Linear(d_v, d_v)\n",
    "        \n",
    "        self.dropout = nn.Dropout(dropout)\n",
    "    \n",
    "    def forward(self, q: torch.Tensor, k: torch.Tensor, v: torch.Tensor) -> torch.Tensor:\n",
    "        # Encoding\n",
    "        # (batch_size, seq_len, d_k) -> (batch_size, seq_len, d_k)\n",
    "        k = self.k_linear(k)\n",
    "        q = self.q_linear(q)\n",
    "        # (batch_size, seq_len, d_b) -> (batch_size, seq_len, d_b)\n",
    "        v = self.v_linear(v)\n",
    "        \n",
    "        # attn_probs : (batch_size, seq_len, seq_len)\n",
    "        attn_probs = torch.matmul(q, k.transpose(-2, -1)) / torch.sqrt(torch.tensor(self.d_k, dtype=torch.float32))\n",
    "        attn_probs = F.softmax(attn_probs, dim=-1)\n",
    "        attn_probs = self.dropout(attn_probs)\n",
    "        \n",
    "        # (batch_size, seq_len, seq_len) x (batch_size, seq_len, d_v) -> (batch_size, seq_len, d_v)\n",
    "        attn = torch.matmul(attn_probs, v)\n",
    "        attn = self.out(attn)\n",
    "        return attn"
   ],
   "metadata": {
    "collapsed": false
   },
   "id": "2c543ded9c65c782"
  },
  {
   "cell_type": "code",
   "execution_count": 31,
   "outputs": [],
   "source": [
    "class MultiHeadAttentionLayer(nn.Module):\n",
    "    \"\"\"Multi-Head Attention layer.\n",
    "    \n",
    "    Args:\n",
    "        d_embed: dimension of embedding\n",
    "        num_heads: number of heads\n",
    "    \n",
    "    Note:\n",
    "        `d_model` is\n",
    "    \"\"\"\n",
    "    def __init__(self, d_model: int, num_heads: int, dropout: float = 0.1):\n",
    "        super().__init__() \n",
    "\n",
    "        self.d_model = d_model\n",
    "        self.num_heads = num_heads\n",
    "        self.d_k = d_model // num_heads\n",
    "\n",
    "        # Query, Key, Value 에 대한 Multi-Head Linear Transformation\n",
    "        self.q_linear = nn.Linear(d_model, d_model)\n",
    "        self.k_linear = nn.Linear(d_model, d_model)\n",
    "        self.v_linear = nn.Linear(d_model, d_model)\n",
    "        \n",
    "        self.out = nn.Linear(d_model, d_model)\n",
    "        self.dropout = nn.Dropout(dropout)\n",
    "\n",
    "    def forward(\n",
    "        self,\n",
    "        query: torch.Tensor,\n",
    "        key: torch.Tensor,\n",
    "        value: torch.Tensor,\n",
    "        mask: torch.Tensor | None = None,\n",
    "    ) -> torch.Tensor:\n",
    "        batch_size = query.size(0)\n",
    "\n",
    "        # Perform linear and split int `num_heads` heads.\n",
    "        # batch_size * seq_len * num_heads * d_model\n",
    "        k = self.k_linear(key).view(batch_size, -1, self.num_heads, self.d_k)\n",
    "        q = self.q_linear(query).view(batch_size, -1, self.num_heads, self.d_k)\n",
    "        v = self.v_linear(value).view(batch_size, -1, self.num_heads, self.d_k)\n",
    "\n",
    "        # Transpose to get dimensions batch_size * num_heads * seq_len * d_model\n",
    "        q = q.transpose(1, 2)\n",
    "        k = k.transpose(1, 2)\n",
    "        v = v.transpose(1, 2)\n",
    "\n",
    "        scores = torch.matmul(q, k.transpose(-2, -1)) / torch.sqrt(torch.tensor(self.d_k, dtype=torch.float32))\n",
    "        if mask is not None:\n",
    "            scores = scores.masked_fill(mask == 0, -1e9)\n",
    "        scores = F.softmax(scores, dim=-1)\n",
    "        scores = torch.matmul(scores, v)\n",
    "\n",
    "        # batch_size * seq_len * num_heads * d_model\n",
    "        scores = scores.transpose(1, 2)\n",
    "\n",
    "        concat = scores.contiguous().view(batch_size, -1, self.d_model)\n",
    "        return self.out(concat)"
   ],
   "metadata": {
    "collapsed": false,
    "ExecuteTime": {
     "end_time": "2023-09-04T05:46:23.430053Z",
     "start_time": "2023-09-04T05:46:23.424387Z"
    }
   },
   "id": "3327110d07c45da5"
  },
  {
   "cell_type": "code",
   "execution_count": null,
   "outputs": [],
   "source": [],
   "metadata": {
    "collapsed": false
   },
   "id": "b5db01750c1c99cb"
  }
 ],
 "metadata": {
  "kernelspec": {
   "display_name": "Python 3",
   "language": "python",
   "name": "python3"
  },
  "language_info": {
   "codemirror_mode": {
    "name": "ipython",
    "version": 2
   },
   "file_extension": ".py",
   "mimetype": "text/x-python",
   "name": "python",
   "nbconvert_exporter": "python",
   "pygments_lexer": "ipython2",
   "version": "2.7.6"
  }
 },
 "nbformat": 4,
 "nbformat_minor": 5
}
